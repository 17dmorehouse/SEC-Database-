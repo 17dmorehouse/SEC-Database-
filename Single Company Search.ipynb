{
 "cells": [
  {
   "cell_type": "code",
   "execution_count": 1,
   "metadata": {},
   "outputs": [],
   "source": [
    "import requests\n",
    "import json\n",
    "import mysql.connector \n",
    "from mysql.connector import errorcode\n",
    "from tabulate import tabulate"
   ]
  },
  {
   "cell_type": "code",
   "execution_count": 2,
   "metadata": {},
   "outputs": [],
   "source": [
    "%run ./Functions_Folder/Forecasting_Functions.ipynb"
   ]
  },
  {
   "cell_type": "code",
   "execution_count": 4,
   "metadata": {},
   "outputs": [
    {
     "name": "stdout",
     "output_type": "stream",
     "text": [
      "                        4yrs        3yrs        2yrs        1yrs        Current       1YoYAvg    3YoYAvg  5YoYAvg\n",
      "----------------------  ----------  ----------  ----------  ----------  ----------  ---------  ---------  ---------\n",
      "Revenue                 1.09 bil    1.23 bil    1.39 bil    2.31 bil    3.55 bil        53.67      44.4   30.52\n",
      "Cash                    213.2 mil   171.97 mil  187.35 mil  142.97 mil  191.63 mil     -10.12      24.11  6.35\n",
      "Total_Debt              771.39 mil  2.88 bil    2.77 bil    2.62 bil    2.32 bil       201.07     172.47  3723.03\n",
      "Earnings_Per_Share      -1.01       1.66        4.56        11.39       8.71           -23.53     100.32  275.89\n",
      "Levered_Free_Cash_Flow  91.95 mil   42.55 mil   209.44 mil  458.77 mil  397.25 mil     -13.41     165.94  98.21\n",
      "Total_Debt_to_Equity    54.78       8.24        5.63        4.15        2.84           -94.82    2860.22  N/A\n"
     ]
    }
   ],
   "source": [
    "basic_overview('CROX')"
   ]
  }
 ],
 "metadata": {
  "kernelspec": {
   "display_name": "Python 3",
   "language": "python",
   "name": "python3"
  },
  "language_info": {
   "codemirror_mode": {
    "name": "ipython",
    "version": 3
   },
   "file_extension": ".py",
   "mimetype": "text/x-python",
   "name": "python",
   "nbconvert_exporter": "python",
   "pygments_lexer": "ipython3",
   "version": "3.8.5"
  }
 },
 "nbformat": 4,
 "nbformat_minor": 4
}
