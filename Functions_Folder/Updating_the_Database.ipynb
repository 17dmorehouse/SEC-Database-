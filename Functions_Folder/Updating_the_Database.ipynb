{
 "cells": [
  {
   "cell_type": "code",
   "execution_count": null,
   "metadata": {},
   "outputs": [],
   "source": [
    "import requests\n",
    "from bs4 import BeautifulSoup\n",
    "import json\n",
    "from collections import OrderedDict\n",
    "from datetime import datetime\n",
    "from dateutil.relativedelta import relativedelta\n",
    "from __future__ import print_function \n",
    "import mysql.connector \n",
    "from mysql.connector import errorcode\n",
    "from timeit import default_timer as timer\n",
    "import time\n"
   ]
  },
  {
   "cell_type": "code",
   "execution_count": null,
   "metadata": {},
   "outputs": [],
   "source": [
    "def Companies_that_need_updating():\n",
    "    cnx = mysql.connector.connect(user='root', password = 'password', database = 'SEC')\n",
    "    cursor = cnx.cursor()\n",
    "    Master_List = []\n",
    "\n",
    "    query = (\"SELECT CIK, Ticker \"\n",
    "             \"FROM sec.futureearningsdate \"\n",
    "             \"Where DATE_ADD(sysdate(), interval + 0 day) > end and DATE_ADD(sysdate(), interval - 90 day) < end \"\n",
    "             \"Group by Ticker \"\n",
    "             \"Order by end asc\")\n",
    "\n",
    "    cursor.execute(query)\n",
    "    sic_grouping = {}\n",
    "    for (CIK, Ticker) in cursor:\n",
    "        Master_List.append(Ticker)\n",
    "    return Master_List"
   ]
  },
  {
   "cell_type": "code",
   "execution_count": null,
   "metadata": {},
   "outputs": [],
   "source": [
    "def Deleting_Company(Ticker):\n",
    "    cnx = mysql.connector.connect(user='root', password = 'password', database = 'SEC')\n",
    "    cursor = cnx.cursor()\n",
    "    try:\n",
    "        query = (\"Delete from company_info \"\n",
    "                 \"Where Ticker = '{}' \".format(Ticker))\n",
    "        cursor.execute(query)   \n",
    "        cnx.commit()\n",
    "    except Exception as err:\n",
    "        print(err, Ticker)"
   ]
  }
 ],
 "metadata": {
  "kernelspec": {
   "display_name": "Python 3",
   "language": "python",
   "name": "python3"
  },
  "language_info": {
   "codemirror_mode": {
    "name": "ipython",
    "version": 3
   },
   "file_extension": ".py",
   "mimetype": "text/x-python",
   "name": "python",
   "nbconvert_exporter": "python",
   "pygments_lexer": "ipython3",
   "version": "3.8.5"
  }
 },
 "nbformat": 4,
 "nbformat_minor": 4
}
